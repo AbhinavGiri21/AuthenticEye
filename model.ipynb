{
  "cells": [
    {
      "cell_type": "code",
      "execution_count": null,
      "id": "QZuUpiAiJ0Sk",
      "metadata": {
        "colab": {
          "base_uri": "https://localhost:8080/"
        },
        "id": "QZuUpiAiJ0Sk",
        "outputId": "4e2aae0a-395f-45fa-eec6-5721ba6abf27"
      },
      "outputs": [],
      "source": [
        "from google.colab import drive\n",
        "drive.mount('/content/drive')"
      ]
    },
    {
      "cell_type": "code",
      "execution_count": null,
      "id": "80058941",
      "metadata": {
        "colab": {
          "base_uri": "https://localhost:8080/"
        },
        "id": "80058941",
        "outputId": "cb98903e-6bde-468e-dcbb-a791840274c5"
      },
      "outputs": [],
      "source": [
        "import os\n",
        "import cv2\n",
        "from tqdm import tqdm\n",
        "\n",
        "def extract_all_frames_with_progress(drive_root, output_root, every_n_frames=10):\n",
        "    categories = ['real', 'fake']\n",
        "    for category in categories:\n",
        "        input_folder = os.path.join(drive_root, category)\n",
        "        output_folder = os.path.join(output_root, category)\n",
        "        os.makedirs(output_folder, exist_ok=True)\n",
        "\n",
        "        videos = os.listdir(input_folder)\n",
        "        print(f\"\\nProcessing {category.upper()} videos...\")\n",
        "        for video_name in tqdm(videos):\n",
        "            video_path = os.path.join(input_folder, video_name)\n",
        "            cap = cv2.VideoCapture(video_path)\n",
        "            count = 0\n",
        "            frame_id = 0\n",
        "            while cap.isOpened():\n",
        "                ret, frame = cap.read()\n",
        "                if not ret:\n",
        "                    break\n",
        "                if frame_id % every_n_frames == 0:\n",
        "                    filename = f\"{video_name.replace('.mp4', '')}_frame_{count}.jpg\"\n",
        "                    frame_path = os.path.join(output_folder, filename)\n",
        "                    cv2.imwrite(frame_path, frame)\n",
        "                    count += 1\n",
        "                frame_id += 1\n",
        "            cap.release()\n",
        "\n",
        "drive_video_path = '/content/drive/My Drive/video_batches/batch_1'\n",
        "local_output_path = '/content/drive/My Drive/extracted_frames'\n",
        "\n",
        "extract_all_frames_with_progress(drive_video_path, local_output_path, every_n_frames=10)\n"
      ]
    },
    {
      "cell_type": "code",
      "execution_count": null,
      "id": "9640f2fc",
      "metadata": {
        "id": "9640f2fc",
        "outputId": "86e4081d-67f1-4ba8-d36c-f0f5bc772b47"
      },
      "outputs": [],
      "source": [
        "import tensorflow as tf\n",
        "import pathlib\n",
        "\n",
        "data_dir = pathlib.Path('/content/drive/My Drive/extracted_frames')\n",
        "img_size = 128\n",
        "batch_size = 32\n",
        "\n",
        "train_ds = tf.keras.utils.image_dataset_from_directory(\n",
        "    data_dir,\n",
        "    validation_split=0.2,\n",
        "    subset=\"training\",\n",
        "    seed=123,\n",
        "    image_size=(img_size, img_size),\n",
        "    batch_size=batch_size\n",
        ")\n",
        "\n",
        "val_ds = tf.keras.utils.image_dataset_from_directory(\n",
        "    data_dir,\n",
        "    validation_split=0.2,\n",
        "    subset=\"validation\",\n",
        "    seed=123,\n",
        "    image_size=(img_size, img_size),\n",
        "    batch_size=batch_size\n",
        ")\n",
        "\n",
        "AUTOTUNE = tf.data.AUTOTUNE\n",
        "train_ds = train_ds.cache().shuffle(1000).prefetch(buffer_size=AUTOTUNE)\n",
        "val_ds = val_ds.cache().prefetch(buffer_size=AUTOTUNE)\n",
        "from tensorflow.keras import layers, models\n",
        "\n",
        "model = models.Sequential([\n",
        "    layers.TimeDistributed(layers.Conv2D(32, (3, 3), activation='relu'), input_shape=(1, img_size, img_size, 3)),\n",
        "    layers.TimeDistributed(layers.MaxPooling2D((2, 2))),\n",
        "    layers.TimeDistributed(layers.Conv2D(64, (3, 3), activation='relu')),\n",
        "    layers.TimeDistributed(layers.MaxPooling2D((2, 2))),\n",
        "    layers.TimeDistributed(layers.Conv2D(128, (3, 3), activation='relu')),\n",
        "    layers.TimeDistributed(layers.MaxPooling2D((2, 2))),\n",
        "    layers.TimeDistributed(layers.Flatten()),\n",
        "    layers.LSTM(64),\n",
        "    layers.Dense(64, activation='relu'),\n",
        "    layers.Dropout(0.5),\n",
        "    layers.Dense(1, activation='sigmoid')\n",
        "])\n",
        "model.compile(optimizer='adam', loss='binary_crossentropy', metrics=['accuracy'])\n",
        "model.summary()\n"
      ]
    },
    {
      "cell_type": "code",
      "execution_count": null,
      "id": "4ed53bdd",
      "metadata": {
        "id": "4ed53bdd",
        "outputId": "4926b55d-3938-4ae6-bc4b-b434bf89dcb4"
      },
      "outputs": [],
      "source": [
        "def expand_dims_for_rnn(dataset):\n",
        "    return dataset.map(lambda x, y: (tf.expand_dims(x, axis=1), y))\n",
        "\n",
        "train_rnn = expand_dims_for_rnn(train_ds)\n",
        "val_rnn = expand_dims_for_rnn(val_ds)\n",
        "\n",
        "history = model.fit(train_rnn, validation_data=val_rnn, epochs=10)"
      ]
    },
    {
      "cell_type": "code",
      "execution_count": null,
      "id": "8402d7f2",
      "metadata": {
        "id": "8402d7f2"
      },
      "outputs": [],
      "source": [
        "model.save('deepfake_model.h5')"
      ]
    },
    {
      "cell_type": "code",
      "execution_count": null,
      "id": "dc28c25d",
      "metadata": {
        "id": "dc28c25d"
      },
      "outputs": [],
      "source": [
        "from tensorflow.keras.preprocessing import image\n",
        "import numpy as np\n",
        "\n",
        "def predict_frame(frame_path):\n",
        "    img = tf.keras.preprocessing.image.load_img(frame_path, target_size=(img_size, img_size))\n",
        "    img_array = tf.keras.preprocessing.image.img_to_array(img) / 255.0\n",
        "    img_array = tf.expand_dims(img_array, axis=0)\n",
        "    img_array = tf.expand_dims(img_array, axis=1)\n",
        "    pred = model.predict(img_array)\n",
        "    return \"FAKE\" if pred[0][0] > 0.5 else \"REAL\"\n"
      ]
    },
    {
      "cell_type": "code",
      "execution_count": null,
      "id": "2ef97345",
      "metadata": {
        "id": "2ef97345"
      },
      "outputs": [],
      "source": [
        "import matplotlib.pyplot as plt\n",
        "\n",
        "def plot_training_history(history):\n",
        "    acc = history.history['accuracy']\n",
        "    val_acc = history.history['val_accuracy']\n",
        "    loss = history.history['loss']\n",
        "    val_loss = history.history['val_loss']\n",
        "    epochs_range = range(len(acc))\n",
        "\n",
        "    plt.figure(figsize=(14, 5))\n",
        "\n",
        "    plt.subplot(1, 2, 1)\n",
        "    plt.plot(epochs_range, acc, label='Training Accuracy', marker='o')\n",
        "    plt.plot(epochs_range, val_acc, label='Validation Accuracy', marker='o')\n",
        "    plt.title('Training and Validation Accuracy')\n",
        "    plt.xlabel(\"Epochs\")\n",
        "    plt.ylabel(\"Accuracy\")\n",
        "    plt.legend()\n",
        "\n",
        "    plt.subplot(1, 2, 2)\n",
        "    plt.plot(epochs_range, loss, label='Training Loss', marker='o')\n",
        "    plt.plot(epochs_range, val_loss, label='Validation Loss', marker='o')\n",
        "    plt.title('Training and Validation Loss')\n",
        "    plt.xlabel(\"Epochs\")\n",
        "    plt.ylabel(\"Loss\")\n",
        "    plt.legend()\n",
        "\n",
        "    plt.tight_layout()\n",
        "    plt.show()\n",
        "\n",
        "plot_training_history(history)\n"
      ]
    }
  ],
  "metadata": {
    "colab": {
      "provenance": []
    },
    "kernelspec": {
      "display_name": "Python 3",
      "name": "python3"
    },
    "language_info": {
      "codemirror_mode": {
        "name": "ipython",
        "version": 3
      },
      "file_extension": ".py",
      "mimetype": "text/x-python",
      "name": "python",
      "nbconvert_exporter": "python",
      "pygments_lexer": "ipython3",
      "version": "3.11.4"
    }
  },
  "nbformat": 4,
  "nbformat_minor": 5
}
